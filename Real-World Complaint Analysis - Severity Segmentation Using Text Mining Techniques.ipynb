{
 "cells": [
  {
   "cell_type": "markdown",
   "id": "1b3e4afa-2424-4739-b3ba-4d29322b01e3",
   "metadata": {},
   "source": [
    "# Automated Complaint Triage System: Prioritizing Forum Feedback with NLP and Machine Learning"
   ]
  },
  {
   "cell_type": "markdown",
   "id": "298ace8a-e0ee-4905-9dd7-884e2ec41fe7",
   "metadata": {},
   "source": [
    "## Project Summary\n",
    "The \"Automated Complaint Triage System\" is designed to analyze and prioritize customer complaints posted on a company forum. Using a predefined dataset of complaints with details such as customer ID, phone number, date posted, location, and email, the system employs natural language processing (NLP) and machine learning techniques to categorize issues into High, Medium, and Low severity levels. Initially, TF-IDF vectorization and K-means clustering assign tentative severity labels based on complaint text, which are then refined by a Naive Bayes classifier. The system evaluates its performance with classification metrics and a confusion matrix, enabling accurate predictions for new complaints. By providing prioritized action items with customer details and confidence scores, it streamlines the resolution process for support teams, enhancing efficiency in addressing customer concerns."
   ]
  },
  {
   "cell_type": "code",
   "execution_count": 3,
   "id": "1519b939-5e53-4727-bdff-2c377e353071",
   "metadata": {},
   "outputs": [],
   "source": [
    "# import libraries\n",
    "\n",
    "import pandas as pd\n",
    "import matplotlib.pyplot as plt\n",
    "import seaborn as sns\n"
   ]
  },
  {
   "cell_type": "code",
   "execution_count": 4,
   "id": "b7ad8e85-5aa2-4c97-93a4-768a1d0089bb",
   "metadata": {},
   "outputs": [],
   "source": [
    "# Predefined Complaint Dataset\n",
    "data = {\n",
    "    \"customer_id\": [\n",
    "        \"CUST12345\", \"CUST23456\", \"CUST34567\", \"CUST45678\", \"CUST56789\",\n",
    "        \"CUST67890\", \"CUST78901\", \"CUST89012\", \"CUST90123\", \"CUST01234\",\n",
    "        \"CUST11223\", \"CUST22334\", \"CUST33445\", \"CUST44556\", \"CUST55667\",\n",
    "        \"CUST66778\", \"CUST77889\", \"CUST88990\", \"CUST99001\", \"CUST10112\"\n",
    "    ],\n",
    "    \"phone_number\": [\n",
    "        \"555-123-4567\", \"555-234-5678\", \"555-345-6789\", \"555-456-7890\", \"555-567-8901\",\n",
    "        \"555-678-9012\", \"555-789-0123\", \"555-890-1234\", \"555-901-2345\", \"555-012-3456\",\n",
    "        \"555-112-2345\", \"555-223-3456\", \"555-334-4567\", \"555-445-5678\", \"555-556-6789\",\n",
    "        \"555-667-7890\", \"555-778-8901\", \"555-889-9012\", \"555-990-0123\", \"555-101-1234\"\n",
    "    ],\n",
    "    \"date_posted\": [\n",
    "        \"2025-03-01 09:15:23\", \"2025-03-02 14:30:45\", \"2025-03-03 10:20:10\", \"2025-03-04 16:45:00\",\n",
    "        \"2025-03-05 11:10:30\", \"2025-03-06 13:25:15\", \"2025-03-07 08:50:40\", \"2025-03-08 15:35:20\",\n",
    "        \"2025-03-09 12:05:55\", \"2025-03-10 17:15:10\", \"2025-03-11 09:40:25\", \"2025-03-12 14:20:35\",\n",
    "        \"2025-03-13 10:55:50\", \"2025-03-14 16:30:15\", \"2025-03-15 11:45:40\", \"2025-03-16 13:10:20\",\n",
    "        \"2025-03-17 08:25:05\", \"2025-03-18 15:50:30\", \"2025-03-19 12:35:45\", \"2025-03-20 17:00:10\"\n",
    "    ],\n",
    "    \"location\": [\n",
    "        \"New York, NY\", \"Los Angeles, CA\", \"Chicago, IL\", \"Houston, TX\", \"Phoenix, AZ\",\n",
    "        \"Philadelphia, PA\", \"San Antonio, TX\", \"San Diego, CA\", \"Dallas, TX\", \"San Jose, CA\",\n",
    "        \"Austin, TX\", \"Jacksonville, FL\", \"Columbus, OH\", \"Seattle, WA\", \"Denver, CO\",\n",
    "        \"Boston, MA\", \"Portland, OR\", \"Las Vegas, NV\", \"Atlanta, GA\", \"Miami, FL\"\n",
    "    ],\n",
    "    \"email_id\": [\n",
    "        \"john.doe@email.com\", \"jane.smith@email.com\", \"bob.jones@email.com\", \"alice.brown@email.com\",\n",
    "        \"mike.wilson@email.com\", \"sarah.davis@email.com\", \"tom.jackson@email.com\", \"emma.white@email.com\",\n",
    "        \"david.lee@email.com\", \"lisa.martin@email.com\", \"peter.clark@email.com\", \"mary.hall@email.com\",\n",
    "        \"james.taylor@email.com\", \"susan.moore@email.com\", \"chris.evans@email.com\", \"kate.roberts@email.com\",\n",
    "        \"steve.adams@email.com\", \"laura.miller@email.com\", \"paul.walker@email.com\", \"nancy.green@email.com\"\n",
    "    ],\n",
    "    \"complaint\": [\n",
    "        \"Internet down for 3 days, urgent fix needed, losing business!\",\n",
    "        \"Billing error this month, charged twice, please correct it.\",\n",
    "        \"Connection drops occasionally during evening hours, annoying.\",\n",
    "        \"Account compromised, unauthorized access, emergency!\",\n",
    "        \"How do I update my payment details? Simple question.\",\n",
    "        \"Support team response time is too slow, frustrating experience.\",\n",
    "        \"Service cut off suddenly with no warning, unacceptable!\",\n",
    "        \"Minor overcharge noticed in last statement, needs review.\",\n",
    "        \"Getting promotional texts despite opting out, irritating.\",\n",
    "        \"App keeps freezing during transactions, basic issue.\",\n",
    "        \"Website down for hours, critical problem affecting work!\",\n",
    "        \"Slight lag in video streaming, not urgent but noticeable.\",\n",
    "        \"Payment system crashed mid-transaction, urgent resolution needed!\",\n",
    "        \"Interface could be more user-friendly, minor suggestion.\",\n",
    "        \"Data breach detected, immediate action required, serious issue!\",\n",
    "        \"Delivery delayed by a week, very disappointing service.\",\n",
    "        \"Login issues persist despite multiple attempts, urgent help!\",\n",
    "        \"Minor glitch in mobile app, occasional crashes.\",\n",
    "        \"Customer service unreachable for days, terrible experience!\",\n",
    "        \"Incorrect item shipped, need replacement soon.\"\n",
    "    ]\n",
    "}\n"
   ]
  },
  {
   "cell_type": "code",
   "execution_count": 5,
   "id": "d9391ccf-b0ff-4959-b9c3-70334ec35ffb",
   "metadata": {},
   "outputs": [
    {
     "name": "stdout",
     "output_type": "stream",
     "text": [
      "   customer_id  phone_number          date_posted          location  \\\n",
      "0    CUST12345  555-123-4567  2025-03-01 09:15:23      New York, NY   \n",
      "1    CUST23456  555-234-5678  2025-03-02 14:30:45   Los Angeles, CA   \n",
      "2    CUST34567  555-345-6789  2025-03-03 10:20:10       Chicago, IL   \n",
      "3    CUST45678  555-456-7890  2025-03-04 16:45:00       Houston, TX   \n",
      "4    CUST56789  555-567-8901  2025-03-05 11:10:30       Phoenix, AZ   \n",
      "5    CUST67890  555-678-9012  2025-03-06 13:25:15  Philadelphia, PA   \n",
      "6    CUST78901  555-789-0123  2025-03-07 08:50:40   San Antonio, TX   \n",
      "7    CUST89012  555-890-1234  2025-03-08 15:35:20     San Diego, CA   \n",
      "8    CUST90123  555-901-2345  2025-03-09 12:05:55        Dallas, TX   \n",
      "9    CUST01234  555-012-3456  2025-03-10 17:15:10      San Jose, CA   \n",
      "10   CUST11223  555-112-2345  2025-03-11 09:40:25        Austin, TX   \n",
      "11   CUST22334  555-223-3456  2025-03-12 14:20:35  Jacksonville, FL   \n",
      "12   CUST33445  555-334-4567  2025-03-13 10:55:50      Columbus, OH   \n",
      "13   CUST44556  555-445-5678  2025-03-14 16:30:15       Seattle, WA   \n",
      "14   CUST55667  555-556-6789  2025-03-15 11:45:40        Denver, CO   \n",
      "15   CUST66778  555-667-7890  2025-03-16 13:10:20        Boston, MA   \n",
      "16   CUST77889  555-778-8901  2025-03-17 08:25:05      Portland, OR   \n",
      "17   CUST88990  555-889-9012  2025-03-18 15:50:30     Las Vegas, NV   \n",
      "18   CUST99001  555-990-0123  2025-03-19 12:35:45       Atlanta, GA   \n",
      "19   CUST10112  555-101-1234  2025-03-20 17:00:10         Miami, FL   \n",
      "\n",
      "                  email_id                                          complaint  \n",
      "0       john.doe@email.com  Internet down for 3 days, urgent fix needed, l...  \n",
      "1     jane.smith@email.com  Billing error this month, charged twice, pleas...  \n",
      "2      bob.jones@email.com  Connection drops occasionally during evening h...  \n",
      "3    alice.brown@email.com  Account compromised, unauthorized access, emer...  \n",
      "4    mike.wilson@email.com  How do I update my payment details? Simple que...  \n",
      "5    sarah.davis@email.com  Support team response time is too slow, frustr...  \n",
      "6    tom.jackson@email.com  Service cut off suddenly with no warning, unac...  \n",
      "7     emma.white@email.com  Minor overcharge noticed in last statement, ne...  \n",
      "8      david.lee@email.com  Getting promotional texts despite opting out, ...  \n",
      "9    lisa.martin@email.com  App keeps freezing during transactions, basic ...  \n",
      "10   peter.clark@email.com  Website down for hours, critical problem affec...  \n",
      "11     mary.hall@email.com  Slight lag in video streaming, not urgent but ...  \n",
      "12  james.taylor@email.com  Payment system crashed mid-transaction, urgent...  \n",
      "13   susan.moore@email.com  Interface could be more user-friendly, minor s...  \n",
      "14   chris.evans@email.com  Data breach detected, immediate action require...  \n",
      "15  kate.roberts@email.com  Delivery delayed by a week, very disappointing...  \n",
      "16   steve.adams@email.com  Login issues persist despite multiple attempts...  \n",
      "17  laura.miller@email.com    Minor glitch in mobile app, occasional crashes.  \n",
      "18   paul.walker@email.com  Customer service unreachable for days, terribl...  \n",
      "19   nancy.green@email.com     Incorrect item shipped, need replacement soon.  \n"
     ]
    }
   ],
   "source": [
    "# Create DataFrame\n",
    "df = pd.DataFrame(data)\n",
    "print(df)"
   ]
  },
  {
   "cell_type": "code",
   "execution_count": 6,
   "id": "ee089666-43ea-4b6c-8cf6-a928dd33c405",
   "metadata": {},
   "outputs": [
    {
     "data": {
      "text/plain": [
       "customer_id                                             CUST12345\n",
       "phone_number                                         555-123-4567\n",
       "date_posted                                   2025-03-01 09:15:23\n",
       "location                                             New York, NY\n",
       "email_id                                       john.doe@email.com\n",
       "complaint       Internet down for 3 days, urgent fix needed, l...\n",
       "Name: 0, dtype: object"
      ]
     },
     "execution_count": 6,
     "metadata": {},
     "output_type": "execute_result"
    }
   ],
   "source": [
    "df.loc[0]"
   ]
  },
  {
   "cell_type": "code",
   "execution_count": 7,
   "id": "7e6b2b00-1b32-4001-971d-9003b87fa45c",
   "metadata": {},
   "outputs": [
    {
     "data": {
      "text/plain": [
       "customer_id     object\n",
       "phone_number    object\n",
       "date_posted     object\n",
       "location        object\n",
       "email_id        object\n",
       "complaint       object\n",
       "dtype: object"
      ]
     },
     "execution_count": 7,
     "metadata": {},
     "output_type": "execute_result"
    }
   ],
   "source": [
    "df.dtypes"
   ]
  },
  {
   "cell_type": "code",
   "execution_count": 8,
   "id": "70f1d3db-2835-4f90-a358-d4c71b683b43",
   "metadata": {},
   "outputs": [],
   "source": [
    "from sklearn.feature_extraction.text import TfidfVectorizer\n",
    "from sklearn.cluster import KMeans\n",
    "from sklearn.naive_bayes import MultinomialNB\n",
    "from sklearn.metrics import classification_report, confusion_matrix"
   ]
  },
  {
   "cell_type": "code",
   "execution_count": 9,
   "id": "e00e8391-15b1-4f42-a1d2-af24375ce0e8",
   "metadata": {},
   "outputs": [],
   "source": [
    "# Initial Clustering Function\n",
    "def initial_clustering(complaints):\n",
    "    tfidf = TfidfVectorizer(max_features=1000, ngram_range=(1, 2), stop_words='english')\n",
    "    X_tfidf = tfidf.fit_transform(complaints)\n",
    "    \n",
    "    kmeans = KMeans(n_clusters=3, random_state=42)\n",
    "    clusters = kmeans.fit_predict(X_tfidf)\n",
    "    \n",
    "    high_keywords = {'urgent', 'emergency', 'critical', 'serious', 'unacceptable'}\n",
    "    low_keywords = {'minor', 'simple', 'slight', 'suggestion'}\n",
    "    \n",
    "    def estimate_severity(text, cluster):\n",
    "        text_lower = text.lower()\n",
    "        if any(kw in text_lower for kw in high_keywords):\n",
    "            return 2  # High\n",
    "        elif any(kw in text_lower for kw in low_keywords):\n",
    "            return 0  # Low\n",
    "        elif cluster == clusters.mean():\n",
    "            return 1  # Medium\n",
    "        return cluster\n",
    "\n",
    "    # Assign initial severity labels (0=Low, 1=Medium, 2=High) using complaint text and clusters\n",
    "    initial_labels = [estimate_severity(comp, cluster) for comp, cluster in zip(complaints, clusters)]\n",
    "\n",
    "    # Return TF-IDF matrix, vectorizer, and labels for training and prediction\n",
    "    return X_tfidf, tfidf, initial_labels\n",
    "\n",
    "\n"
   ]
  },
  {
   "cell_type": "code",
   "execution_count": 10,
   "id": "b12c432b-ab49-490f-97bd-db83ff406848",
   "metadata": {},
   "outputs": [],
   "source": [
    "from sklearn.model_selection import train_test_split\n",
    "\n",
    "# Train Classifier Function\n",
    "def train_classifier(X_tfidf, initial_labels):\n",
    "    X_train,X_test,y_train,y_test = train_test_split(X_tfidf, initial_labels, test_size=0.2, random_state=42)\n",
    "    \n",
    "    # naive bayes classifier\n",
    "    nb_classifier = MultinomialNB(alpha=0.1)\n",
    "    nb_classifier.fit(X_train,y_train)\n",
    "    y_pred = nb_classifier.predict(X_test)\n",
    "    return nb_classifier, X_test, y_test, y_pred\n"
   ]
  },
  {
   "cell_type": "code",
   "execution_count": 11,
   "id": "0d797646-e876-42a1-909c-bbf0eeeeb848",
   "metadata": {},
   "outputs": [
    {
     "name": "stdout",
     "output_type": "stream",
     "text": [
      "Analyzing forum complaints...\n",
      "\n",
      "Sample Complaints from Forum:\n",
      "\n",
      "Complaint 1:\n",
      "Customer ID: CUST12345\n",
      "Phone: 555-123-4567\n",
      "Date Posted: 2025-03-01 09:15:23\n",
      "Location: New York, NY\n",
      "Email: john.doe@email.com\n",
      "Complaint: Internet down for 3 days, urgent fix needed, losing business!...\n",
      "Assigned Priority: High\n",
      "\n",
      "Complaint 2:\n",
      "Customer ID: CUST23456\n",
      "Phone: 555-234-5678\n",
      "Date Posted: 2025-03-02 14:30:45\n",
      "Location: Los Angeles, CA\n",
      "Email: jane.smith@email.com\n",
      "Complaint: Billing error this month, charged twice, please correct it....\n",
      "Assigned Priority: Low\n",
      "\n",
      "Complaint 3:\n",
      "Customer ID: CUST34567\n",
      "Phone: 555-345-6789\n",
      "Date Posted: 2025-03-03 10:20:10\n",
      "Location: Chicago, IL\n",
      "Email: bob.jones@email.com\n",
      "Complaint: Connection drops occasionally during evening hours, annoying....\n",
      "Assigned Priority: High\n",
      "\n",
      "Complaint 4:\n",
      "Customer ID: CUST45678\n",
      "Phone: 555-456-7890\n",
      "Date Posted: 2025-03-04 16:45:00\n",
      "Location: Houston, TX\n",
      "Email: alice.brown@email.com\n",
      "Complaint: Account compromised, unauthorized access, emergency!...\n",
      "Assigned Priority: High\n",
      "\n",
      "Complaint 5:\n",
      "Customer ID: CUST56789\n",
      "Phone: 555-567-8901\n",
      "Date Posted: 2025-03-05 11:10:30\n",
      "Location: Phoenix, AZ\n",
      "Email: mike.wilson@email.com\n",
      "Complaint: How do I update my payment details? Simple question....\n",
      "Assigned Priority: Low\n"
     ]
    }
   ],
   "source": [
    "# Main Analysis\n",
    "print(\"Analyzing forum complaints...\\n\")\n",
    "\n",
    "# Initial clustering\n",
    "X_tfidf, tfidf, initial_labels = initial_clustering(df[\"complaint\"])\n",
    "\n",
    "# Add initial labels\n",
    "label_map = {0: \"Low\", 1: \"Medium\", 2: \"High\"}\n",
    "df[\"priority\"] = [label_map[label] for label in initial_labels]\n",
    "\n",
    "# Train classifier\n",
    "classifier, X_test, y_test, y_pred = train_classifier(X_tfidf, initial_labels)\n",
    "\n",
    "# Display sample complaints\n",
    "print(\"Sample Complaints from Forum:\")\n",
    "for i in range(5):\n",
    "    print(f\"\\nComplaint {i+1}:\")\n",
    "    print(f\"Customer ID: {df['customer_id'].iloc[i]}\")\n",
    "    print(f\"Phone: {df['phone_number'].iloc[i]}\")\n",
    "    print(f\"Date Posted: {df['date_posted'].iloc[i]}\")\n",
    "    print(f\"Location: {df['location'].iloc[i]}\")\n",
    "    print(f\"Email: {df['email_id'].iloc[i]}\")\n",
    "    print(f\"Complaint: {df['complaint'].iloc[i][:100]}...\")\n",
    "    print(f\"Assigned Priority: {df['priority'].iloc[i]}\")"
   ]
  },
  {
   "cell_type": "code",
   "execution_count": 12,
   "id": "dceb41a5-a0cf-4040-becb-827684561625",
   "metadata": {},
   "outputs": [
    {
     "name": "stdout",
     "output_type": "stream",
     "text": [
      "\n",
      "Classification Report:\n",
      "              precision    recall  f1-score   support\n",
      "\n",
      "         Low       1.00      1.00      1.00         3\n",
      "      Medium       0.00      0.00      0.00         0\n",
      "        High       1.00      1.00      1.00         1\n",
      "\n",
      "   micro avg       1.00      1.00      1.00         4\n",
      "   macro avg       0.67      0.67      0.67         4\n",
      "weighted avg       1.00      1.00      1.00         4\n",
      "\n"
     ]
    },
    {
     "data": {
      "image/png": "[encoded data removed]",
      "text/plain": [
       "<Figure size 800x600 with 2 Axes>"
      ]
     },
     "metadata": {},
     "output_type": "display_data"
    }
   ],
   "source": [
    "# Model Evaluation\n",
    "print(\"\\nClassification Report:\")\n",
    "print(classification_report(y_test, y_pred, labels=[0, 1, 2], target_names=[\"Low\", \"Medium\", \"High\"], zero_division=0))\n",
    "\n",
    "\n",
    "# Confusion Matrix\n",
    "cm = confusion_matrix(y_test, y_pred)\n",
    "plt.figure(figsize=(8, 6))\n",
    "sns.heatmap(cm, annot=True, fmt='d', cmap='Blues',\n",
    "            xticklabels=[\"Low\", \"Medium\", \"High\"],\n",
    "            yticklabels=[\"Low\", \"Medium\", \"High\"])\n",
    "plt.title('Confusion Matrix')\n",
    "plt.ylabel('Initial Label')\n",
    "plt.xlabel('Predicted Label')\n",
    "plt.show()"
   ]
  },
  {
   "cell_type": "code",
   "execution_count": 13,
   "id": "73832c4d-44df-4af1-9cf0-ae7691a5177a",
   "metadata": {},
   "outputs": [
    {
     "name": "stdout",
     "output_type": "stream",
     "text": [
      "\n",
      "Resolution Team Action Items:\n",
      "\n",
      "Action Item 1:\n",
      "Customer ID: CUST54321\n",
      "Phone: 555-123-4567\n",
      "Date Posted: 2025-03-25 10:15:23\n",
      "Location: Austin, TX\n",
      "Email: john.doe@email.com\n",
      "Complaint: Complete system failure, urgent help needed!\n",
      "Priority: High (Confidence: 94.22%)\n",
      "Status: Assigned to resolution team\n",
      "\n",
      "Action Item 2:\n",
      "Customer ID: CUST67890\n",
      "Phone: 555-987-6543\n",
      "Date Posted: 2025-03-25 11:30:45\n",
      "Location: Seattle, WA\n",
      "Email: jane.smith@email.com\n",
      "Complaint: Minor delay in response time today\n",
      "Priority: Low (Confidence: 94.74%)\n",
      "Status: Assigned to resolution team\n",
      "\n",
      "Action Item 3:\n",
      "Customer ID: CUST11223\n",
      "Phone: 555-555-5555\n",
      "Date Posted: 2025-03-25 14:20:10\n",
      "Location: Miami, FL\n",
      "Email: bob.jones@email.com\n",
      "Complaint: Billing issue needs checking\n",
      "Priority: Low (Confidence: 71.29%)\n",
      "Status: Assigned to resolution team\n"
     ]
    }
   ],
   "source": [
    "# Prediction Function and New Complaints\n",
    "def predict_priority(complaint):\n",
    "    X_new = tfidf.transform([complaint])\n",
    "    priority_class = classifier.predict(X_new)[0]\n",
    "    probability = max(classifier.predict_proba(X_new)[0]) * 100\n",
    "    return label_map[priority_class], probability\n",
    "\n",
    "# Predefined new complaints\n",
    "new_complaints = [\n",
    "    {\"customer_id\": \"CUST54321\", \"phone_number\": \"555-123-4567\", \n",
    "     \"date_posted\": \"2025-03-25 10:15:23\", \"location\": \"Austin, TX\", \n",
    "     \"email_id\": \"john.doe@email.com\", \"complaint\": \"Complete system failure, urgent help needed!\"},\n",
    "    {\"customer_id\": \"CUST67890\", \"phone_number\": \"555-987-6543\", \n",
    "     \"date_posted\": \"2025-03-25 11:30:45\", \"location\": \"Seattle, WA\", \n",
    "     \"email_id\": \"jane.smith@email.com\", \"complaint\": \"Minor delay in response time today\"},\n",
    "    {\"customer_id\": \"CUST11223\", \"phone_number\": \"555-555-5555\", \n",
    "     \"date_posted\": \"2025-03-25 14:20:10\", \"location\": \"Miami, FL\", \n",
    "     \"email_id\": \"bob.jones@email.com\", \"complaint\": \"Billing issue needs checking\"}\n",
    "]\n",
    "\n",
    "print(\"\\nResolution Team Action Items:\")\n",
    "for i, post in enumerate(new_complaints, 1):\n",
    "    priority, confidence = predict_priority(post[\"complaint\"])\n",
    "    print(f\"\\nAction Item {i}:\")\n",
    "    print(f\"Customer ID: {post['customer_id']}\")\n",
    "    print(f\"Phone: {post['phone_number']}\")\n",
    "    print(f\"Date Posted: {post['date_posted']}\")\n",
    "    print(f\"Location: {post['location']}\")\n",
    "    print(f\"Email: {post['email_id']}\")\n",
    "    print(f\"Complaint: {post['complaint']}\")\n",
    "    print(f\"Priority: {priority} (Confidence: {confidence:.2f}%)\")\n",
    "    print(\"Status: Assigned to resolution team\")"
   ]
  },
  {
   "cell_type": "code",
   "execution_count": null,
   "id": "313d1d84-dde0-42db-b7a4-a5716b020585",
   "metadata": {},
   "outputs": [],
   "source": []
  }
 ],
 "metadata": {
  "kernelspec": {
   "display_name": "Python 3 (ipykernel)",
   "language": "python",
   "name": "python3"
  },
  "language_info": {
   "codemirror_mode": {
    "name": "ipython",
    "version": 3
   },
   "file_extension": ".py",
   "mimetype": "text/x-python",
   "name": "python",
   "nbconvert_exporter": "python",
   "pygments_lexer": "ipython3",
   "version": "3.12.4"
  }
 },
 "nbformat": 4,
 "nbformat_minor": 5
}
